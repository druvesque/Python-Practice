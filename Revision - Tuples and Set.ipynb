{
 "cells": [
  {
   "cell_type": "code",
   "execution_count": 1,
   "id": "fdad43ca",
   "metadata": {},
   "outputs": [],
   "source": [
    "#Tuples"
   ]
  },
  {
   "cell_type": "code",
   "execution_count": 2,
   "id": "6e6bc467",
   "metadata": {},
   "outputs": [],
   "source": [
    "tup = (21, 35, 14, 25) #Tuple is immutable"
   ]
  },
  {
   "cell_type": "code",
   "execution_count": 3,
   "id": "b6145c95",
   "metadata": {},
   "outputs": [
    {
     "data": {
      "text/plain": [
       "35"
      ]
     },
     "execution_count": 3,
     "metadata": {},
     "output_type": "execute_result"
    }
   ],
   "source": [
    "tup[1]"
   ]
  },
  {
   "cell_type": "code",
   "execution_count": 4,
   "id": "17004315",
   "metadata": {},
   "outputs": [
    {
     "ename": "TypeError",
     "evalue": "'tuple' object does not support item assignment",
     "output_type": "error",
     "traceback": [
      "\u001b[1;31m---------------------------------------------------------------------------\u001b[0m",
      "\u001b[1;31mTypeError\u001b[0m                                 Traceback (most recent call last)",
      "Cell \u001b[1;32mIn[4], line 1\u001b[0m\n\u001b[1;32m----> 1\u001b[0m tup[\u001b[38;5;241m1\u001b[39m] \u001b[38;5;241m=\u001b[39m \u001b[38;5;241m33\u001b[39m\n",
      "\u001b[1;31mTypeError\u001b[0m: 'tuple' object does not support item assignment"
     ]
    }
   ],
   "source": [
    "tup[1] = 33"
   ]
  },
  {
   "cell_type": "code",
   "execution_count": 5,
   "id": "2ea34c9e",
   "metadata": {},
   "outputs": [],
   "source": [
    "#Tuples are used when we don't want to change the data, the iterations are faster in a tuple, that's when we use them"
   ]
  },
  {
   "cell_type": "code",
   "execution_count": 6,
   "id": "5843b24d",
   "metadata": {},
   "outputs": [],
   "source": [
    "#Set: doesn't support indexing"
   ]
  },
  {
   "cell_type": "code",
   "execution_count": 7,
   "id": "32c433ce",
   "metadata": {},
   "outputs": [],
   "source": [
    "s = {22, 25, 14, 21, 5}"
   ]
  },
  {
   "cell_type": "code",
   "execution_count": 8,
   "id": "24125b74",
   "metadata": {},
   "outputs": [
    {
     "data": {
      "text/plain": [
       "{5, 14, 21, 22, 25}"
      ]
     },
     "execution_count": 8,
     "metadata": {},
     "output_type": "execute_result"
    }
   ],
   "source": [
    "s"
   ]
  },
  {
   "cell_type": "code",
   "execution_count": 9,
   "id": "5c321f31",
   "metadata": {},
   "outputs": [],
   "source": [
    "s = {25, 14, 98, 63, 75, 98}"
   ]
  },
  {
   "cell_type": "code",
   "execution_count": 10,
   "id": "cb8b2ae0",
   "metadata": {},
   "outputs": [
    {
     "data": {
      "text/plain": [
       "{14, 25, 63, 75, 98}"
      ]
     },
     "execution_count": 10,
     "metadata": {},
     "output_type": "execute_result"
    }
   ],
   "source": [
    "s"
   ]
  }
 ],
 "metadata": {
  "kernelspec": {
   "display_name": "Python 3 (ipykernel)",
   "language": "python",
   "name": "python3"
  },
  "language_info": {
   "codemirror_mode": {
    "name": "ipython",
    "version": 3
   },
   "file_extension": ".py",
   "mimetype": "text/x-python",
   "name": "python",
   "nbconvert_exporter": "python",
   "pygments_lexer": "ipython3",
   "version": "3.10.9"
  }
 },
 "nbformat": 4,
 "nbformat_minor": 5
}
