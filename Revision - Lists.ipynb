{
 "cells": [
  {
   "cell_type": "code",
   "execution_count": 1,
   "id": "c5742028",
   "metadata": {},
   "outputs": [],
   "source": [
    "#Lists"
   ]
  },
  {
   "cell_type": "code",
   "execution_count": 2,
   "id": "e2670cf9",
   "metadata": {},
   "outputs": [],
   "source": [
    "nums = [25, 12, 36, 95, 14]"
   ]
  },
  {
   "cell_type": "code",
   "execution_count": 3,
   "id": "be54d259",
   "metadata": {},
   "outputs": [
    {
     "data": {
      "text/plain": [
       "[25, 12, 36, 95, 14]"
      ]
     },
     "execution_count": 3,
     "metadata": {},
     "output_type": "execute_result"
    }
   ],
   "source": [
    "nums"
   ]
  },
  {
   "cell_type": "code",
   "execution_count": 4,
   "id": "06193779",
   "metadata": {},
   "outputs": [
    {
     "data": {
      "text/plain": [
       "25"
      ]
     },
     "execution_count": 4,
     "metadata": {},
     "output_type": "execute_result"
    }
   ],
   "source": [
    "nums[0]"
   ]
  },
  {
   "cell_type": "code",
   "execution_count": 5,
   "id": "f855484d",
   "metadata": {},
   "outputs": [
    {
     "ename": "IndexError",
     "evalue": "list index out of range",
     "output_type": "error",
     "traceback": [
      "\u001b[1;31m---------------------------------------------------------------------------\u001b[0m",
      "\u001b[1;31mIndexError\u001b[0m                                Traceback (most recent call last)",
      "Cell \u001b[1;32mIn[5], line 1\u001b[0m\n\u001b[1;32m----> 1\u001b[0m \u001b[43mnums\u001b[49m\u001b[43m[\u001b[49m\u001b[38;5;241;43m54\u001b[39;49m\u001b[43m]\u001b[49m\n",
      "\u001b[1;31mIndexError\u001b[0m: list index out of range"
     ]
    }
   ],
   "source": [
    "nums[54]"
   ]
  },
  {
   "cell_type": "code",
   "execution_count": 6,
   "id": "2c9015c0",
   "metadata": {},
   "outputs": [
    {
     "data": {
      "text/plain": [
       "14"
      ]
     },
     "execution_count": 6,
     "metadata": {},
     "output_type": "execute_result"
    }
   ],
   "source": [
    "nums[4]"
   ]
  },
  {
   "cell_type": "code",
   "execution_count": 7,
   "id": "7a196e8f",
   "metadata": {},
   "outputs": [
    {
     "data": {
      "text/plain": [
       "[36, 95, 14]"
      ]
     },
     "execution_count": 7,
     "metadata": {},
     "output_type": "execute_result"
    }
   ],
   "source": [
    "nums[2:]"
   ]
  },
  {
   "cell_type": "code",
   "execution_count": 8,
   "id": "ee857459",
   "metadata": {},
   "outputs": [
    {
     "data": {
      "text/plain": [
       "14"
      ]
     },
     "execution_count": 8,
     "metadata": {},
     "output_type": "execute_result"
    }
   ],
   "source": [
    "nums[-1]"
   ]
  },
  {
   "cell_type": "code",
   "execution_count": 9,
   "id": "12da788f",
   "metadata": {},
   "outputs": [
    {
     "data": {
      "text/plain": [
       "25"
      ]
     },
     "execution_count": 9,
     "metadata": {},
     "output_type": "execute_result"
    }
   ],
   "source": [
    "nums[-5]"
   ]
  },
  {
   "cell_type": "code",
   "execution_count": 10,
   "id": "376fc869",
   "metadata": {},
   "outputs": [],
   "source": [
    "names = [\"dhruv\", \"abhinav\", \"ambuj\"]"
   ]
  },
  {
   "cell_type": "code",
   "execution_count": 11,
   "id": "906d36a1",
   "metadata": {},
   "outputs": [
    {
     "data": {
      "text/plain": [
       "['dhruv', 'abhinav', 'ambuj']"
      ]
     },
     "execution_count": 11,
     "metadata": {},
     "output_type": "execute_result"
    }
   ],
   "source": [
    "names"
   ]
  },
  {
   "cell_type": "code",
   "execution_count": 12,
   "id": "c3383455",
   "metadata": {},
   "outputs": [],
   "source": [
    "values = [9.5, \"dhruv\", 25] #Different types of data in same list"
   ]
  },
  {
   "cell_type": "code",
   "execution_count": 13,
   "id": "5d992278",
   "metadata": {},
   "outputs": [
    {
     "data": {
      "text/plain": [
       "[9.5, 'dhruv', 25]"
      ]
     },
     "execution_count": 13,
     "metadata": {},
     "output_type": "execute_result"
    }
   ],
   "source": [
    "values"
   ]
  },
  {
   "cell_type": "code",
   "execution_count": 14,
   "id": "1bfde1d0",
   "metadata": {},
   "outputs": [],
   "source": [
    "mil = [nums, names]"
   ]
  },
  {
   "cell_type": "code",
   "execution_count": 15,
   "id": "db59e192",
   "metadata": {},
   "outputs": [
    {
     "data": {
      "text/plain": [
       "[[25, 12, 36, 95, 14], ['dhruv', 'abhinav', 'ambuj']]"
      ]
     },
     "execution_count": 15,
     "metadata": {},
     "output_type": "execute_result"
    }
   ],
   "source": [
    "mil"
   ]
  },
  {
   "cell_type": "code",
   "execution_count": 16,
   "id": "c5e35024",
   "metadata": {},
   "outputs": [],
   "source": [
    "nums.append(64) #Lists are mutable"
   ]
  },
  {
   "cell_type": "code",
   "execution_count": 17,
   "id": "d7142650",
   "metadata": {},
   "outputs": [
    {
     "data": {
      "text/plain": [
       "[25, 12, 36, 95, 14, 64]"
      ]
     },
     "execution_count": 17,
     "metadata": {},
     "output_type": "execute_result"
    }
   ],
   "source": [
    "nums"
   ]
  },
  {
   "cell_type": "code",
   "execution_count": 24,
   "id": "4ab0f88f",
   "metadata": {},
   "outputs": [],
   "source": [
    "nums.clear()"
   ]
  },
  {
   "cell_type": "code",
   "execution_count": 25,
   "id": "cd02601c",
   "metadata": {},
   "outputs": [
    {
     "data": {
      "text/plain": [
       "[]"
      ]
     },
     "execution_count": 25,
     "metadata": {},
     "output_type": "execute_result"
    }
   ],
   "source": [
    "nums"
   ]
  },
  {
   "cell_type": "code",
   "execution_count": 26,
   "id": "8d34a42f",
   "metadata": {},
   "outputs": [],
   "source": [
    "nums.insert(0,45)"
   ]
  },
  {
   "cell_type": "code",
   "execution_count": 27,
   "id": "7944ceaa",
   "metadata": {},
   "outputs": [
    {
     "data": {
      "text/plain": [
       "[45]"
      ]
     },
     "execution_count": 27,
     "metadata": {},
     "output_type": "execute_result"
    }
   ],
   "source": [
    "nums"
   ]
  },
  {
   "cell_type": "code",
   "execution_count": 28,
   "id": "c0c8e81e",
   "metadata": {},
   "outputs": [],
   "source": [
    "nums.append(34)\n",
    "nums.append(56)\n",
    "nums.append(67)"
   ]
  },
  {
   "cell_type": "code",
   "execution_count": 29,
   "id": "97ba79a8",
   "metadata": {},
   "outputs": [
    {
     "data": {
      "text/plain": [
       "[45, 34, 56, 67]"
      ]
     },
     "execution_count": 29,
     "metadata": {},
     "output_type": "execute_result"
    }
   ],
   "source": [
    "nums"
   ]
  },
  {
   "cell_type": "code",
   "execution_count": 30,
   "id": "e1b23f17",
   "metadata": {},
   "outputs": [],
   "source": [
    "nums.remove(56)"
   ]
  },
  {
   "cell_type": "code",
   "execution_count": 31,
   "id": "d5e27bf4",
   "metadata": {},
   "outputs": [
    {
     "data": {
      "text/plain": [
       "[45, 34, 67]"
      ]
     },
     "execution_count": 31,
     "metadata": {},
     "output_type": "execute_result"
    }
   ],
   "source": [
    "nums"
   ]
  },
  {
   "cell_type": "code",
   "execution_count": 33,
   "id": "4739244c",
   "metadata": {},
   "outputs": [
    {
     "data": {
      "text/plain": [
       "34"
      ]
     },
     "execution_count": 33,
     "metadata": {},
     "output_type": "execute_result"
    }
   ],
   "source": [
    "nums.pop(1)"
   ]
  },
  {
   "cell_type": "code",
   "execution_count": 34,
   "id": "122027a9",
   "metadata": {},
   "outputs": [
    {
     "data": {
      "text/plain": [
       "[45, 67]"
      ]
     },
     "execution_count": 34,
     "metadata": {},
     "output_type": "execute_result"
    }
   ],
   "source": [
    "nums"
   ]
  },
  {
   "cell_type": "code",
   "execution_count": 35,
   "id": "d6867535",
   "metadata": {},
   "outputs": [
    {
     "data": {
      "text/plain": [
       "67"
      ]
     },
     "execution_count": 35,
     "metadata": {},
     "output_type": "execute_result"
    }
   ],
   "source": [
    "nums.pop() #Removes the last element if the index is not specified"
   ]
  },
  {
   "cell_type": "code",
   "execution_count": 36,
   "id": "d05fa7be",
   "metadata": {},
   "outputs": [
    {
     "data": {
      "text/plain": [
       "[45]"
      ]
     },
     "execution_count": 36,
     "metadata": {},
     "output_type": "execute_result"
    }
   ],
   "source": [
    "nums"
   ]
  },
  {
   "cell_type": "code",
   "execution_count": 38,
   "id": "55fdcda3",
   "metadata": {},
   "outputs": [],
   "source": [
    "nums.append(64)\n",
    "nums.append(87)\n",
    "nums.append(32)\n",
    "nums.append(45)"
   ]
  },
  {
   "cell_type": "code",
   "execution_count": 39,
   "id": "9e261355",
   "metadata": {},
   "outputs": [
    {
     "data": {
      "text/plain": [
       "[45, 64, 64, 87, 32, 45]"
      ]
     },
     "execution_count": 39,
     "metadata": {},
     "output_type": "execute_result"
    }
   ],
   "source": [
    "nums"
   ]
  },
  {
   "cell_type": "code",
   "execution_count": 40,
   "id": "d6409a6a",
   "metadata": {},
   "outputs": [],
   "source": [
    "del nums[2:]"
   ]
  },
  {
   "cell_type": "code",
   "execution_count": 41,
   "id": "493d38c2",
   "metadata": {},
   "outputs": [
    {
     "data": {
      "text/plain": [
       "[45, 64]"
      ]
     },
     "execution_count": 41,
     "metadata": {},
     "output_type": "execute_result"
    }
   ],
   "source": [
    "nums"
   ]
  },
  {
   "cell_type": "code",
   "execution_count": 42,
   "id": "1138c8a7",
   "metadata": {},
   "outputs": [],
   "source": [
    "nums.extend([64,23,67,13])"
   ]
  },
  {
   "cell_type": "code",
   "execution_count": 43,
   "id": "fb5448a8",
   "metadata": {},
   "outputs": [
    {
     "data": {
      "text/plain": [
       "[45, 64, 64, 23, 67, 13]"
      ]
     },
     "execution_count": 43,
     "metadata": {},
     "output_type": "execute_result"
    }
   ],
   "source": [
    "nums"
   ]
  },
  {
   "cell_type": "code",
   "execution_count": 44,
   "id": "b474a8df",
   "metadata": {},
   "outputs": [
    {
     "data": {
      "text/plain": [
       "13"
      ]
     },
     "execution_count": 44,
     "metadata": {},
     "output_type": "execute_result"
    }
   ],
   "source": [
    "min(nums)"
   ]
  },
  {
   "cell_type": "code",
   "execution_count": 45,
   "id": "b506a6b2",
   "metadata": {},
   "outputs": [
    {
     "data": {
      "text/plain": [
       "67"
      ]
     },
     "execution_count": 45,
     "metadata": {},
     "output_type": "execute_result"
    }
   ],
   "source": [
    "max(nums)"
   ]
  },
  {
   "cell_type": "code",
   "execution_count": 46,
   "id": "ab534dff",
   "metadata": {},
   "outputs": [
    {
     "data": {
      "text/plain": [
       "276"
      ]
     },
     "execution_count": 46,
     "metadata": {},
     "output_type": "execute_result"
    }
   ],
   "source": [
    "sum(nums)"
   ]
  },
  {
   "cell_type": "code",
   "execution_count": 47,
   "id": "2b7c96e9",
   "metadata": {},
   "outputs": [],
   "source": [
    "nums.sort()"
   ]
  },
  {
   "cell_type": "code",
   "execution_count": 49,
   "id": "385b682f",
   "metadata": {},
   "outputs": [
    {
     "data": {
      "text/plain": [
       "[13, 23, 45, 64, 64, 67]"
      ]
     },
     "execution_count": 49,
     "metadata": {},
     "output_type": "execute_result"
    }
   ],
   "source": [
    "nums"
   ]
  },
  {
   "cell_type": "code",
   "execution_count": 51,
   "id": "295787df",
   "metadata": {},
   "outputs": [],
   "source": [
    "nums = [25, 36, 95, 14, 12, 26]\n",
    "del nums[2:5]"
   ]
  },
  {
   "cell_type": "code",
   "execution_count": 52,
   "id": "44cbdba0",
   "metadata": {},
   "outputs": [
    {
     "data": {
      "text/plain": [
       "[25, 36, 26]"
      ]
     },
     "execution_count": 52,
     "metadata": {},
     "output_type": "execute_result"
    }
   ],
   "source": [
    "nums"
   ]
  }
 ],
 "metadata": {
  "kernelspec": {
   "display_name": "Python 3 (ipykernel)",
   "language": "python",
   "name": "python3"
  },
  "language_info": {
   "codemirror_mode": {
    "name": "ipython",
    "version": 3
   },
   "file_extension": ".py",
   "mimetype": "text/x-python",
   "name": "python",
   "nbconvert_exporter": "python",
   "pygments_lexer": "ipython3",
   "version": "3.10.9"
  }
 },
 "nbformat": 4,
 "nbformat_minor": 5
}
