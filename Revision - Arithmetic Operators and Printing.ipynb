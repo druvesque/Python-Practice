{
 "cells": [
  {
   "cell_type": "code",
   "execution_count": null,
   "id": "3ce6b8c9",
   "metadata": {},
   "outputs": [],
   "source": [
    "#Mathematical Operators"
   ]
  },
  {
   "cell_type": "code",
   "execution_count": 1,
   "id": "2162fda8",
   "metadata": {},
   "outputs": [
    {
     "data": {
      "text/plain": [
       "5"
      ]
     },
     "execution_count": 1,
     "metadata": {},
     "output_type": "execute_result"
    }
   ],
   "source": [
    "2 + 3"
   ]
  },
  {
   "cell_type": "code",
   "execution_count": 2,
   "id": "c5a44e04",
   "metadata": {},
   "outputs": [
    {
     "data": {
      "text/plain": [
       "1"
      ]
     },
     "execution_count": 2,
     "metadata": {},
     "output_type": "execute_result"
    }
   ],
   "source": [
    "9 - 8"
   ]
  },
  {
   "cell_type": "code",
   "execution_count": 3,
   "id": "55fe92a0",
   "metadata": {},
   "outputs": [
    {
     "data": {
      "text/plain": [
       "24"
      ]
     },
     "execution_count": 3,
     "metadata": {},
     "output_type": "execute_result"
    }
   ],
   "source": [
    "4 * 6"
   ]
  },
  {
   "cell_type": "code",
   "execution_count": 4,
   "id": "9ddc0759",
   "metadata": {},
   "outputs": [
    {
     "data": {
      "text/plain": [
       "6.25"
      ]
     },
     "execution_count": 4,
     "metadata": {},
     "output_type": "execute_result"
    }
   ],
   "source": [
    "50/8 #Division gives float point number"
   ]
  },
  {
   "cell_type": "code",
   "execution_count": 5,
   "id": "b941d3b6",
   "metadata": {},
   "outputs": [
    {
     "data": {
      "text/plain": [
       "2.0"
      ]
     },
     "execution_count": 5,
     "metadata": {},
     "output_type": "execute_result"
    }
   ],
   "source": [
    "8/4"
   ]
  },
  {
   "cell_type": "code",
   "execution_count": 6,
   "id": "5c4541bd",
   "metadata": {},
   "outputs": [
    {
     "data": {
      "text/plain": [
       "2"
      ]
     },
     "execution_count": 6,
     "metadata": {},
     "output_type": "execute_result"
    }
   ],
   "source": [
    "5 // 2 #Floor Division or Integer Divsion"
   ]
  },
  {
   "cell_type": "code",
   "execution_count": 7,
   "id": "ee02aa57",
   "metadata": {},
   "outputs": [
    {
     "data": {
      "text/plain": [
       "14"
      ]
     },
     "execution_count": 7,
     "metadata": {},
     "output_type": "execute_result"
    }
   ],
   "source": [
    "8 + 2 * 3"
   ]
  },
  {
   "cell_type": "code",
   "execution_count": 8,
   "id": "0eceaa88",
   "metadata": {},
   "outputs": [
    {
     "data": {
      "text/plain": [
       "30"
      ]
     },
     "execution_count": 8,
     "metadata": {},
     "output_type": "execute_result"
    }
   ],
   "source": [
    "(8+2)*3"
   ]
  },
  {
   "cell_type": "code",
   "execution_count": 9,
   "id": "fd9e1667",
   "metadata": {},
   "outputs": [
    {
     "data": {
      "text/plain": [
       "8"
      ]
     },
     "execution_count": 9,
     "metadata": {},
     "output_type": "execute_result"
    }
   ],
   "source": [
    "2 ** 3"
   ]
  },
  {
   "cell_type": "code",
   "execution_count": 10,
   "id": "bf6512a7",
   "metadata": {},
   "outputs": [
    {
     "data": {
      "text/plain": [
       "1"
      ]
     },
     "execution_count": 10,
     "metadata": {},
     "output_type": "execute_result"
    }
   ],
   "source": [
    "10 % 3 #Modulus or Remainder  "
   ]
  },
  {
   "cell_type": "code",
   "execution_count": null,
   "id": "5b9cf3fa",
   "metadata": {},
   "outputs": [],
   "source": [
    "#Strings"
   ]
  },
  {
   "cell_type": "code",
   "execution_count": 11,
   "id": "a260ea6a",
   "metadata": {},
   "outputs": [
    {
     "data": {
      "text/plain": [
       "'dhruv'"
      ]
     },
     "execution_count": 11,
     "metadata": {},
     "output_type": "execute_result"
    }
   ],
   "source": [
    "'dhruv'"
   ]
  },
  {
   "cell_type": "code",
   "execution_count": 12,
   "id": "e8ed6e7e",
   "metadata": {},
   "outputs": [
    {
     "name": "stdout",
     "output_type": "stream",
     "text": [
      "dhruv\n"
     ]
    }
   ],
   "source": [
    "print(\"dhruv\") #Inbuilt function, we can build our own"
   ]
  },
  {
   "cell_type": "code",
   "execution_count": 13,
   "id": "dec5f66d",
   "metadata": {},
   "outputs": [
    {
     "name": "stdout",
     "output_type": "stream",
     "text": [
      "dhruv's \"laptop\"\n"
     ]
    }
   ],
   "source": [
    "print('dhruv\\'s \"laptop\"')"
   ]
  },
  {
   "cell_type": "code",
   "execution_count": 15,
   "id": "2718150d",
   "metadata": {},
   "outputs": [
    {
     "data": {
      "text/plain": [
       "\"dhruv, you're doing great\""
      ]
     },
     "execution_count": 15,
     "metadata": {},
     "output_type": "execute_result"
    }
   ],
   "source": [
    "\"dhruv\" + \", you're doing great\" #Concatenation"
   ]
  },
  {
   "cell_type": "code",
   "execution_count": 16,
   "id": "7b3212b0",
   "metadata": {},
   "outputs": [
    {
     "data": {
      "text/plain": [
       "'dhruvdhruvdhruvdhruvdhruvdhruvdhruvdhruvdhruvdhruv'"
      ]
     },
     "execution_count": 16,
     "metadata": {},
     "output_type": "execute_result"
    }
   ],
   "source": [
    "\"dhruv\"*10 #Multiplying"
   ]
  },
  {
   "cell_type": "code",
   "execution_count": 17,
   "id": "49ffbb90",
   "metadata": {},
   "outputs": [
    {
     "name": "stdout",
     "output_type": "stream",
     "text": [
      "c:\\docs\n",
      "anyang\n"
     ]
    }
   ],
   "source": [
    "print(\"c:\\docs\\nanyang\")"
   ]
  },
  {
   "cell_type": "code",
   "execution_count": 18,
   "id": "d7115f76",
   "metadata": {},
   "outputs": [
    {
     "name": "stdout",
     "output_type": "stream",
     "text": [
      "c:\\docs\\nanyang\n"
     ]
    }
   ],
   "source": [
    "print(r\"c:\\docs\\nanyang\") #Raw string, don't read into the escape character \\"
   ]
  }
 ],
 "metadata": {
  "kernelspec": {
   "display_name": "Python 3 (ipykernel)",
   "language": "python",
   "name": "python3"
  },
  "language_info": {
   "codemirror_mode": {
    "name": "ipython",
    "version": 3
   },
   "file_extension": ".py",
   "mimetype": "text/x-python",
   "name": "python",
   "nbconvert_exporter": "python",
   "pygments_lexer": "ipython3",
   "version": "3.10.9"
  }
 },
 "nbformat": 4,
 "nbformat_minor": 5
}
